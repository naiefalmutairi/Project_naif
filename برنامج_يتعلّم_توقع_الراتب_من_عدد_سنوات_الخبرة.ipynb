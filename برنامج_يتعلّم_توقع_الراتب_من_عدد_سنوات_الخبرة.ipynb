{
  "cells": [
    {
      "cell_type": "markdown",
      "metadata": {
        "id": "view-in-github",
        "colab_type": "text"
      },
      "source": [
        "<a href=\"https://colab.research.google.com/github/naiefalmutairi/Project_naif/blob/main/%D8%A8%D8%B1%D9%86%D8%A7%D9%85%D8%AC_%D9%8A%D8%AA%D8%B9%D9%84%D9%91%D9%85_%D8%AA%D9%88%D9%82%D8%B9_%D8%A7%D9%84%D8%B1%D8%A7%D8%AA%D8%A8_%D9%85%D9%86_%D8%B9%D8%AF%D8%AF_%D8%B3%D9%86%D9%88%D8%A7%D8%AA_%D8%A7%D9%84%D8%AE%D8%A8%D8%B1%D8%A9.ipynb\" target=\"_parent\"><img src=\"https://colab.research.google.com/assets/colab-badge.svg\" alt=\"Open In Colab\"/></a>"
      ]
    },
    {
      "cell_type": "code",
      "source": [
        "from sklearn.linear_model import LinearRegression\n",
        "import numpy as np\n",
        "\n",
        "# بيانات التدريب (سنوات الخبرة والراتب)\n",
        "X = np.array([[1], [2], [3], [4], [5]])  # سنوات الخبرة\n",
        "y = np.array([3000, 3500, 4000, 4500, 5000])  # الرواتب\n",
        "\n",
        "# إنشاء النموذج\n",
        "model = LinearRegression()\n",
        "model.fit(X, y)\n",
        "\n",
        "# تجربة التنبؤ\n",
        "years = 6\n",
        "predicted_salary = model.predict([[years]])\n",
        "print(f\"راتب الشخص ذو {years} سنوات خبرة هو تقريبًا: {predicted_salary[0]:.0f} ريال\")\n"
      ],
      "metadata": {
        "colab": {
          "base_uri": "https://localhost:8080/"
        },
        "id": "81hiPy-O-GEf",
        "outputId": "61341008-dfe8-4c07-b16e-9c1c31d95970"
      },
      "execution_count": null,
      "outputs": [
        {
          "output_type": "stream",
          "name": "stdout",
          "text": [
            "راتب الشخص ذو 6 سنوات خبرة هو تقريبًا: 5500 ريال\n"
          ]
        }
      ]
    }
  ],
  "metadata": {
    "colab": {
      "provenance": [],
      "include_colab_link": true
    },
    "kernelspec": {
      "display_name": "Python 3",
      "name": "python3"
    }
  },
  "nbformat": 4,
  "nbformat_minor": 0
}